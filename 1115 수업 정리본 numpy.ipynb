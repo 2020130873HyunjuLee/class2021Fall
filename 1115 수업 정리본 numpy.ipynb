{
  "nbformat": 4,
  "nbformat_minor": 0,
  "metadata": {
    "kernelspec": {
      "display_name": "Python 3",
      "language": "python",
      "name": "python3"
    },
    "language_info": {
      "codemirror_mode": {
        "name": "ipython",
        "version": 3
      },
      "file_extension": ".py",
      "mimetype": "text/x-python",
      "name": "python",
      "nbconvert_exporter": "python",
      "pygments_lexer": "ipython3",
      "version": "3.7.1"
    },
    "colab": {
      "name": "numpy.ipynb",
      "provenance": [],
      "include_colab_link": true
    }
  },
  "cells": [
    {
      "cell_type": "markdown",
      "metadata": {
        "id": "view-in-github",
        "colab_type": "text"
      },
      "source": [
        "<a href=\"https://colab.research.google.com/github/2020130873HyunjuLee/class2021Fall/blob/main/1115%20%EC%88%98%EC%97%85%20%EC%A0%95%EB%A6%AC%EB%B3%B8%20numpy.ipynb\" target=\"_parent\"><img src=\"https://colab.research.google.com/assets/colab-badge.svg\" alt=\"Open In Colab\"/></a>"
      ]
    },
    {
      "cell_type": "markdown",
      "metadata": {
        "id": "JcCdLoe_4bY7"
      },
      "source": [
        "### create nd arrays (≈matrices)"
      ]
    },
    {
      "cell_type": "markdown",
      "metadata": {
        "id": "vOmOqVr78QXZ"
      },
      "source": [
        "- 행렬 : 2D\n",
        "- 벡터 : 1D\n",
        "- N dimentional arrays\n",
        "> 2 by 3 : 행이 2개 열이 3개\n",
        "> 2 by 3 by 4 by 5 : 4D\n",
        "\n",
        "\n",
        "\n"
      ]
    },
    {
      "cell_type": "code",
      "metadata": {
        "id": "5ap7xyofShBB"
      },
      "source": [
        "import numpy as np"
      ],
      "execution_count": null,
      "outputs": []
    },
    {
      "cell_type": "code",
      "metadata": {
        "id": "2rqpSPZCShBC",
        "colab": {
          "base_uri": "https://localhost:8080/"
        },
        "outputId": "f54dba9e-e49f-435d-8c48-71325535f63e"
      },
      "source": [
        "[1,2,3]\n",
        "= 1D arrays\n",
        "{[1,2,3], [4,5,6]}\n",
        "= 2D arrays (괄호 갯수 보기) \n",
        "\n",
        "x = np.array([1,2,3])\n",
        "print(x)\n",
        "print(type(x))\n",
        "print(x.shape)"
      ],
      "execution_count": null,
      "outputs": [
        {
          "output_type": "stream",
          "name": "stdout",
          "text": [
            "[1 2 3]\n",
            "<class 'numpy.ndarray'>\n",
            "(3,)\n"
          ]
        }
      ]
    },
    {
      "cell_type": "code",
      "metadata": {
        "id": "9_VMmZKj9b77",
        "colab": {
          "base_uri": "https://localhost:8080/"
        },
        "outputId": "c341ae5a-ddc0-40bd-c88a-af5a599814ae"
      },
      "source": [
        "x = np.array([[1, 2, 3], [4, 5, 7]])\n",
        "\n",
        "print(x)\n",
        "print(type(x))\n",
        "print(x.shape)"
      ],
      "execution_count": null,
      "outputs": [
        {
          "output_type": "stream",
          "name": "stdout",
          "text": [
            "[[1 2 3]\n",
            " [4 5 7]]\n",
            "<class 'numpy.ndarray'>\n",
            "(2, 3)\n"
          ]
        }
      ]
    },
    {
      "cell_type": "markdown",
      "metadata": {
        "id": "_obD_cIr-c0l"
      },
      "source": [
        "- (2,3) 나와야함. [[]]크게는 2개, 안에 [] 안엔 3개니깐.\n",
        "- () 안의 괄호는 다 [] 처리, 차원 갯수는 맨 앞 대괄호 [ 개수로 세기\n",
        "- 몇 d array 야 라고 물어보면, (2,3) 나왔으니까 2D array"
      ]
    },
    {
      "cell_type": "markdown",
      "metadata": {
        "id": "e3KybAVz_TaJ"
      },
      "source": [
        "\n",
        "\n",
        "---\n",
        "\n",
        "* arange : 범위를 만들어주는 것"
      ]
    },
    {
      "cell_type": "code",
      "metadata": {
        "id": "EjC88C75ShBC",
        "colab": {
          "base_uri": "https://localhost:8080/"
        },
        "outputId": "2c72f55f-c3f9-4e6a-c26b-f3e209a295e3"
      },
      "source": [
        "x = np.arange(0,10,2)\n",
        "print(x)\n",
        "print(type(x))\n",
        "print(x.shape)"
      ],
      "execution_count": null,
      "outputs": [
        {
          "output_type": "stream",
          "name": "stdout",
          "text": [
            "[0 2 4 6 8]\n",
            "<class 'numpy.ndarray'>\n",
            "(5,)\n"
          ]
        }
      ]
    },
    {
      "cell_type": "markdown",
      "metadata": {
        "id": "-KPKTzbj_bx0"
      },
      "source": [
        "🍕해당 코드 해석: range 가 0≤x≤10 까지인데, 2만큼 증가시켜 10이 되기 전에 스탑하라\n",
        "\n",
        "🍕 한 줄 짜리니까 (5,) 임 ; 1차원 (type 만 보면 차원을 알 수는 없음)"
      ]
    },
    {
      "cell_type": "markdown",
      "metadata": {
        "id": "zvKuGtdMAF18"
      },
      "source": [
        "* linspace: linear 한 스페이스를 만들어주는 것 "
      ]
    },
    {
      "cell_type": "code",
      "metadata": {
        "id": "-MwkCEjTShBC",
        "colab": {
          "base_uri": "https://localhost:8080/"
        },
        "outputId": "11427674-886c-4f82-ca48-a1465f53223e"
      },
      "source": [
        "x = np.linspace(0,10,6)\n",
        "print(x)\n",
        "print(type(x))\n",
        "print(x.shape)"
      ],
      "execution_count": null,
      "outputs": [
        {
          "output_type": "stream",
          "name": "stdout",
          "text": [
            "[ 0.  2.  4.  6.  8. 10.]\n",
            "<class 'numpy.ndarray'>\n",
            "(6,)\n"
          ]
        }
      ]
    },
    {
      "cell_type": "markdown",
      "metadata": {
        "id": "Lzqd9qgXAIT-"
      },
      "source": [
        "🍕해당 코드 해석: 0에서 10까지, 총 6개의 숫자를 만들어라 (등간격으로)"
      ]
    },
    {
      "cell_type": "code",
      "metadata": {
        "id": "tjk79SQ27fNv",
        "colab": {
          "base_uri": "https://localhost:8080/"
        },
        "outputId": "3ff3368b-6bb1-4664-933e-8504613780b1"
      },
      "source": [
        "x = np.array([[1,2,3], [4,5,6]])\n",
        "print(x)\n",
        "print(type(x))\n",
        "print(x.shape)"
      ],
      "execution_count": null,
      "outputs": [
        {
          "output_type": "stream",
          "name": "stdout",
          "text": [
            "[[1 2 3]\n",
            " [4 5 6]]\n",
            "<class 'numpy.ndarray'>\n",
            "(2, 3)\n"
          ]
        }
      ]
    },
    {
      "cell_type": "markdown",
      "metadata": {
        "id": "z3e2xq6BArAT"
      },
      "source": [
        "🍕 2차원"
      ]
    },
    {
      "cell_type": "code",
      "metadata": {
        "id": "C1ogg6iZ7yir",
        "colab": {
          "base_uri": "https://localhost:8080/"
        },
        "outputId": "baf27f4e-10a7-40bb-82f4-bf470d8de90c"
      },
      "source": [
        "x = np.array([[[1,2,3], [4,5,6]], [[7,8,9], [10,11,12]]])\n",
        "print(x)\n",
        "print(type(x))\n",
        "print(x.shape)"
      ],
      "execution_count": null,
      "outputs": [
        {
          "output_type": "stream",
          "name": "stdout",
          "text": [
            "[[[ 1  2  3]\n",
            "  [ 4  5  6]]\n",
            "\n",
            " [[ 7  8  9]\n",
            "  [10 11 12]]]\n",
            "<class 'numpy.ndarray'>\n",
            "(2, 2, 3)\n"
          ]
        }
      ]
    },
    {
      "cell_type": "markdown",
      "metadata": {
        "id": "TzwELrj9Awn8"
      },
      "source": [
        "🍕 3차원"
      ]
    },
    {
      "cell_type": "markdown",
      "metadata": {
        "id": "Nx2X1v0kBKxA"
      },
      "source": [
        "\n",
        "\n",
        "---\n",
        "\n"
      ]
    },
    {
      "cell_type": "markdown",
      "metadata": {
        "id": "WLo0vGkJBOl3"
      },
      "source": [
        "* Ones 함수"
      ]
    },
    {
      "cell_type": "code",
      "metadata": {
        "id": "efgeNHtD8ZlT",
        "colab": {
          "base_uri": "https://localhost:8080/"
        },
        "outputId": "047fb9dd-8c90-4dbf-9f12-35123bed1052"
      },
      "source": [
        "x = np.ones([2, 2, 3])\n",
        "print(x)\n",
        "print(type(x))\n",
        "print(x.shape)"
      ],
      "execution_count": null,
      "outputs": [
        {
          "output_type": "stream",
          "name": "stdout",
          "text": [
            "[[[1. 1. 1.]\n",
            "  [1. 1. 1.]]\n",
            "\n",
            " [[1. 1. 1.]\n",
            "  [1. 1. 1.]]]\n",
            "<class 'numpy.ndarray'>\n",
            "(2, 2, 3)\n"
          ]
        }
      ]
    },
    {
      "cell_type": "markdown",
      "metadata": {
        "id": "4VMEUED2BQwv"
      },
      "source": [
        "🍕 코드 해석: 2 by 2 by 3 array 를 만드는데, 거기에 다 1을 채워라"
      ]
    },
    {
      "cell_type": "markdown",
      "metadata": {
        "id": "EhYLLCOZBmZu"
      },
      "source": [
        "* Zeroes 함수"
      ]
    },
    {
      "cell_type": "code",
      "metadata": {
        "id": "b_F-ccY08zzl",
        "colab": {
          "base_uri": "https://localhost:8080/"
        },
        "outputId": "d56dd759-bbd1-48d5-d208-4a2084fe1cec"
      },
      "source": [
        "x = np.zeros([2, 2, 3])\n",
        "print(x)\n",
        "print(type(x))\n",
        "print(x.shape)\n",
        "x.reshape(3,2,2)"
      ],
      "execution_count": null,
      "outputs": [
        {
          "output_type": "stream",
          "name": "stdout",
          "text": [
            "[[[0. 0. 0.]\n",
            "  [0. 0. 0.]]\n",
            "\n",
            " [[0. 0. 0.]\n",
            "  [0. 0. 0.]]]\n",
            "<class 'numpy.ndarray'>\n",
            "(2, 2, 3)\n"
          ]
        },
        {
          "output_type": "execute_result",
          "data": {
            "text/plain": [
              "array([[[0., 0.],\n",
              "        [0., 0.]],\n",
              "\n",
              "       [[0., 0.],\n",
              "        [0., 0.]],\n",
              "\n",
              "       [[0., 0.],\n",
              "        [0., 0.]]])"
            ]
          },
          "metadata": {},
          "execution_count": 27
        }
      ]
    },
    {
      "cell_type": "markdown",
      "metadata": {
        "id": "HX1YxlDBBpoQ"
      },
      "source": [
        "🍕 코드 해석: 2 by 2 by 3 array 를 만드는데, 거기에 다 0을 채워라 "
      ]
    },
    {
      "cell_type": "markdown",
      "metadata": {
        "id": "0hQuDJ5g9gpE"
      },
      "source": [
        "### create random numbers"
      ]
    },
    {
      "cell_type": "code",
      "metadata": {
        "id": "QRatmkx79otL"
      },
      "source": [
        "import matplotlib.pyplot as plt"
      ],
      "execution_count": null,
      "outputs": []
    },
    {
      "cell_type": "markdown",
      "metadata": {
        "id": "Ggjn5_4dvH9g"
      },
      "source": [
        "naming 이 matplotlib 인 이유: matrix plotting library 의 약자\n"
      ]
    },
    {
      "cell_type": "code",
      "metadata": {
        "id": "z1oOAB6dShBD"
      },
      "source": [
        "x = np.random.normal(0, 1, 100)\n",
        "print(x)\n",
        "plt.hist(x, bins=10)"
      ],
      "execution_count": null,
      "outputs": []
    },
    {
      "cell_type": "markdown",
      "metadata": {
        "id": "iQHSJIDzB67B"
      },
      "source": [
        "https://numpy.org/doc/stable/reference/random/generated/numpy.random.normal.html 사용법 참고\n",
        "\n",
        "🍕 코드 해석: 평균값이 0, normal distribution을 1로 하는 100개의 숫자를 만들어라"
      ]
    },
    {
      "cell_type": "markdown",
      "metadata": {
        "id": "G0exvwBbShBE"
      },
      "source": [
        "### generate a sine curve"
      ]
    },
    {
      "cell_type": "code",
      "metadata": {
        "id": "HgQmRXzMShBE",
        "colab": {
          "base_uri": "https://localhost:8080/",
          "height": 312
        },
        "outputId": "0bd1d041-d421-497d-b7c6-ead99afb376d"
      },
      "source": [
        "theta = np.linspace(0, 2*np.pi, 100)\n",
        "s = np.sin(theta)\n",
        "plt.plot(theta, s,)\n",
        "plt.xlabel('angle (radian)')\n",
        "plt.ylabel('value')\n",
        "plt.title('NCT ZZANG')"
      ],
      "execution_count": null,
      "outputs": [
        {
          "output_type": "execute_result",
          "data": {
            "text/plain": [
              "Text(0.5, 1.0, 'NCT ZZANG')"
            ]
          },
          "metadata": {},
          "execution_count": 18
        },
        {
          "output_type": "display_data",
          "data": {
            "image/png": "[encoded data removed]",
            "text/plain": [
              "<Figure size 432x288 with 1 Axes>"
            ]
          },
          "metadata": {
            "needs_background": "light"
          }
        }
      ]
    },
    {
      "cell_type": "markdown",
      "metadata": {
        "id": "7b4TBgLACdgu"
      },
      "source": [
        "🍕 코드해석: \n",
        "\n",
        "(1)0≤x≤2pi(360도) 범위 중 100개의 숫자를 만들어라 (등간격으로) \n",
        "\n",
        "(2)그 값들이 sin을 통과하면 -1부터 1사이의 숫자가 나올 것. (각도값이 100개)\n",
        "\n",
        "(3) 각도값 100개와 sin값 100개가 (theta,s 임, 마지막에 . 으로 하면 .으로 점이 생성, ㅇ 으로 하면 ㅇ 모양, m 으로 하면 magenta 색상 등등\n",
        "\n",
        "(4~6) x,y축과 title 라벨링\n",
        "\n",
        "응용) theta 안에 들어있는 벡터의 길이는? 👉 print(theta.shape) 하면 100 나옴 \n",
        "\n",
        "점들의 개수는 ? 👉당연히 100개"
      ]
    },
    {
      "cell_type": "code",
      "metadata": {
        "id": "WTqXoomZBbBk",
        "colab": {
          "base_uri": "https://localhost:8080/",
          "height": 312
        },
        "outputId": "79f067f2-c1ba-42b4-8f63-836939e5df8a"
      },
      "source": [
        "theta2 = np.linspace(0, 2*np.pi, 100) + np.pi/2\n",
        "s2 = np.sin(theta2)\n",
        "plt.plot(theta2, s2,)\n",
        "plt.xlabel('angle (radian)')\n",
        "plt.ylabel('value')\n",
        "plt.title('Mark is LOVE')"
      ],
      "execution_count": null,
      "outputs": [
        {
          "output_type": "execute_result",
          "data": {
            "text/plain": [
              "Text(0.5, 1.0, 'Mark is LOVE')"
            ]
          },
          "metadata": {},
          "execution_count": 23
        },
        {
          "output_type": "display_data",
          "data": {
            "image/png": "[encoded data removed]",
            "text/plain": [
              "<Figure size 432x288 with 1 Axes>"
            ]
          },
          "metadata": {
            "needs_background": "light"
          }
        }
      ]
    },
    {
      "cell_type": "markdown",
      "metadata": {
        "id": "WYDwMkltF1hy"
      },
      "source": [
        "* 'NCT ZZANG' 함수와의 차이점: 90도가 shift 되어있음. (위에껀 0도부터 시작, 밑에껀 90도 부터 시작) = phase difference (위상차)"
      ]
    },
    {
      "cell_type": "markdown",
      "metadata": {
        "id": "dks_aa3pI4uR"
      },
      "source": [
        "\n",
        "\n",
        "---\n",
        "\n"
      ]
    },
    {
      "cell_type": "markdown",
      "metadata": {
        "id": "rCXjaiKTIXrS"
      },
      "source": [
        "* **Mark is LOVE 함수값 비교** (여기 1115 강의 1시간~1시간 7분 부분 존 나 이해않되 시발 ㅇㅇ 이 부분 다시 들어줄게)"
      ]
    },
    {
      "cell_type": "code",
      "metadata": {
        "id": "TuH489v9BvQ7",
        "colab": {
          "base_uri": "https://localhost:8080/"
        },
        "outputId": "a1b1e9a7-3871-47da-8447-5d1b7deaeeca"
      },
      "source": [
        "np.corrcoef(s,s2)"
      ],
      "execution_count": null,
      "outputs": [
        {
          "output_type": "execute_result",
          "data": {
            "text/plain": [
              "array([[1.00000000e+00, 2.41915449e-17],\n",
              "       [2.41915449e-17, 1.00000000e+00]])"
            ]
          },
          "metadata": {},
          "execution_count": 54
        }
      ]
    },
    {
      "cell_type": "markdown",
      "metadata": {
        "id": "SXqxWzb2Ij4S"
      },
      "source": [
        "🍕 corrcoef = corrrelation coefficient = r = cos(theta)\n",
        "\n",
        "🍕 코드 해석:2.41915449e-17 = 거의 0에 수렴하는 값"
      ]
    }
  ]
}