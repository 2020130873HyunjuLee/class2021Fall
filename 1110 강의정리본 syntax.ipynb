{
  "nbformat": 4,
  "nbformat_minor": 0,
  "metadata": {
    "kernelspec": {
      "display_name": "Python 3",
      "language": "python",
      "name": "python3"
    },
    "language_info": {
      "codemirror_mode": {
        "name": "ipython",
        "version": 3
      },
      "file_extension": ".py",
      "mimetype": "text/x-python",
      "name": "python",
      "nbconvert_exporter": "python",
      "pygments_lexer": "ipython3",
      "version": "3.7.1"
    },
    "colab": {
      "name": "syntax.ipynb",
      "provenance": [],
      "include_colab_link": true
    }
  },
  "cells": [
    {
      "cell_type": "markdown",
      "metadata": {
        "id": "view-in-github",
        "colab_type": "text"
      },
      "source": [
        "<a href=\"https://colab.research.google.com/github/2020130873HyunjuLee/class2021Fall/blob/main/1110%20%EA%B0%95%EC%9D%98%EC%A0%95%EB%A6%AC%EB%B3%B8%20syntax.ipynb\" target=\"_parent\"><img src=\"https://colab.research.google.com/assets/colab-badge.svg\" alt=\"Open In Colab\"/></a>"
      ]
    },
    {
      "cell_type": "markdown",
      "metadata": {
        "id": "prGq87WgTo1n"
      },
      "source": [
        "a는 list\n",
        "- for = 똑같은 패턴을 반복\n",
        "- if = ~할 때만 해라 (조건)"
      ]
    },
    {
      "cell_type": "code",
      "metadata": {
        "id": "Fu2mzgrqSLAU",
        "outputId": "283876b5-0fc9-4961-d92d-d242b3c222de"
      },
      "source": [
        "a = [1, 2, 3, 4]\n",
        "for i in a:\n",
        "    print(i)"
      ],
      "execution_count": null,
      "outputs": [
        {
          "output_type": "stream",
          "text": [
            "1\n",
            "2\n",
            "3\n",
            "4\n"
          ],
          "name": "stdout"
        }
      ]
    },
    {
      "cell_type": "markdown",
      "metadata": {
        "id": "kJNHEyavkDfq"
      },
      "source": [
        "print, range 등 누군가가 만들어놓은 operation = **function**\n",
        "- function 은 언제나 입/출력을 가짐\n",
        "- 위 코드(함수)의 경우, 입력은 i\n",
        "- 반드시 괄호 안엔 입력이 들어감"
      ]
    },
    {
      "cell_type": "code",
      "metadata": {
        "id": "Tjod-QSQTlWg",
        "colab": {
          "base_uri": "https://localhost:8080/"
        },
        "outputId": "ab68d319-573e-4f58-dd25-4ee633f3c304"
      },
      "source": [
        "a = [1, 2, 3, 4]\n",
        "\n",
        "for i  in  a :\n",
        "  print(i)\n",
        "print(i+1)\n"
      ],
      "execution_count": null,
      "outputs": [
        {
          "output_type": "stream",
          "name": "stdout",
          "text": [
            "1\n",
            "2\n",
            "3\n",
            "4\n",
            "5\n"
          ]
        }
      ]
    },
    {
      "cell_type": "markdown",
      "metadata": {
        "id": "3CB418PPTz9D"
      },
      "source": [
        "**for A in B :** ( A에 있는 것을 가지고 B 에 있는 리스트로 반복해라) \n",
        "\n",
        "[틀] for i  in  a\n",
        "       print(i)\n",
        "\n",
        "[해석] a에 있는 것에서 젤 첫번째부터 끝번째까지 i에 넣어라\n",
        "\n",
        "- a = [1, 2, 3, 4, 5, 6, ..... .... 10000] 일 경우, print (a[0]) 부터 10000까지 다 써야하므로, for 공식을 사용\n",
        "- **indent (들여쓰기) 를 해야 적용** \n",
        "위의 예시처럼 print(i)는 들여쓰기 하고 print (i+1) 은 들여쓰기 안하면, print(i) 만 반복되고 마지막 print(i+1)은 마지막 4에서 그냥 +1 한 값 출력 (반복x)\n",
        "- for도 if도 수식 뒤에 : (colon) 해줘야 돌아감\n"
      ]
    },
    {
      "cell_type": "code",
      "metadata": {
        "id": "rtCrXwtZZQoY",
        "colab": {
          "base_uri": "https://localhost:8080/"
        },
        "outputId": "16032470-8547-4fb5-c8bd-9bbcef243732"
      },
      "source": [
        "for i in range(4) : \n",
        "  print(i)"
      ],
      "execution_count": null,
      "outputs": [
        {
          "output_type": "stream",
          "name": "stdout",
          "text": [
            "0\n",
            "1\n",
            "2\n",
            "3\n"
          ]
        }
      ]
    },
    {
      "cell_type": "markdown",
      "metadata": {
        "id": "X-CCIvUtZbSc"
      },
      "source": [
        "ㄴrange(4)를 하면, 단순 숫자의 range의 index가 출력됨. "
      ]
    },
    {
      "cell_type": "code",
      "metadata": {
        "id": "GvEXa9PmZseL",
        "colab": {
          "base_uri": "https://localhost:8080/"
        },
        "outputId": "d642b6af-e855-4520-d5e4-fb0c95a68e44"
      },
      "source": [
        "a = [1, 2, 3, 4]\n",
        "for i in range(4) : \n",
        "  print(a[i])"
      ],
      "execution_count": null,
      "outputs": [
        {
          "output_type": "stream",
          "name": "stdout",
          "text": [
            "1\n",
            "2\n",
            "3\n",
            "4\n"
          ]
        }
      ]
    },
    {
      "cell_type": "markdown",
      "metadata": {
        "id": "Nauk314UZ1o4"
      },
      "source": [
        "ㄴrange (4)를 하면 0,1,2,3이 나오는데, 이를 다시 i에 넣으면 a[0],a[1],a[2],a[3] 이 되므로 결과적으로는 1,2,3,4 출력"
      ]
    },
    {
      "cell_type": "code",
      "metadata": {
        "id": "XSJxLJVCSLAW",
        "outputId": "8fb62c0c-fc3b-4142-e30c-2e1ac62fb34b",
        "colab": {
          "base_uri": "https://localhost:8080/"
        }
      },
      "source": [
        "a = [1, 2, 3, 4]\n",
        "for i in range(len(a)):\n",
        "    print(a[i])"
      ],
      "execution_count": 2,
      "outputs": [
        {
          "output_type": "stream",
          "name": "stdout",
          "text": [
            "1\n",
            "2\n",
            "3\n",
            "4\n"
          ]
        }
      ]
    },
    {
      "cell_type": "markdown",
      "metadata": {
        "id": "AGfLEij7aX0q"
      },
      "source": [
        "ㄴlist의 length 를 찾아줌. (len(a))=4 이므로 결과적으로 바로 위의 코드와 같은 결과 도출. "
      ]
    },
    {
      "cell_type": "code",
      "metadata": {
        "id": "H7olMAtLkbmJ",
        "outputId": "2767b1dd-8b7c-4a4d-b387-164cc39f6ba9",
        "colab": {
          "base_uri": "https://localhost:8080/"
        }
      },
      "source": [
        "a = [1, 2, 3, 4]\n",
        "\n",
        "len(a)"
      ],
      "execution_count": 1,
      "outputs": [
        {
          "output_type": "execute_result",
          "data": {
            "text/plain": [
              "4"
            ]
          },
          "metadata": {},
          "execution_count": 1
        }
      ]
    },
    {
      "cell_type": "markdown",
      "metadata": {
        "id": "4ri4OKpBkwj4"
      },
      "source": [
        "- https://www.w3schools.com/python/ref_func_len.asp 참고\n",
        "- (len = list 속 component 의 개수를 뱉어줌):"
      ]
    },
    {
      "cell_type": "code",
      "metadata": {
        "id": "tN5le3X6lBvM",
        "outputId": "9afede38-ca23-4320-bb14-89071aa77103",
        "colab": {
          "base_uri": "https://localhost:8080/"
        }
      },
      "source": [
        "a = [1, 2, 3, 4]\n",
        "\n",
        "len(a)\n",
        "\n",
        "print('h') "
      ],
      "execution_count": 4,
      "outputs": [
        {
          "output_type": "stream",
          "name": "stdout",
          "text": [
            "h\n"
          ]
        }
      ]
    },
    {
      "cell_type": "markdown",
      "metadata": {
        "id": "MFEtL-HolHVb"
      },
      "source": [
        "ㄴ 제일 마지막에 있을 땐 print를 굳이 안해도 위위의 코드처럼 4가 나오는데, 아닐 때는 print를 붙여야함"
      ]
    },
    {
      "cell_type": "code",
      "metadata": {
        "id": "VTfxVRdgSLAW",
        "colab": {
          "base_uri": "https://localhost:8080/"
        },
        "outputId": "b5e01c20-d153-4849-c7b1-dbc39d1ed7ef"
      },
      "source": [
        "a = ['red', 'green', 'blue', 'purple']\n",
        "for i in a:\n",
        "    print(i)"
      ],
      "execution_count": null,
      "outputs": [
        {
          "output_type": "stream",
          "name": "stdout",
          "text": [
            "red\n",
            "green\n",
            "blue\n",
            "purple\n"
          ]
        }
      ]
    },
    {
      "cell_type": "code",
      "metadata": {
        "id": "Vc-7pW85SLAW",
        "outputId": "9394e177-c8c8-44db-ff28-1e9566072bb3"
      },
      "source": [
        "a = ['red', 'green', 'blue', 'purple']\n",
        "for i in range(len(a)):\n",
        "    print(a[i])"
      ],
      "execution_count": null,
      "outputs": [
        {
          "output_type": "stream",
          "text": [
            "red\n",
            "green\n",
            "blue\n",
            "purple\n"
          ],
          "name": "stdout"
        }
      ]
    },
    {
      "cell_type": "markdown",
      "metadata": {
        "id": "cjXDx653azSF"
      },
      "source": [
        "ㄴ (len(a))=4 이므로 range(4) = 0,1,2,3  네 번의 루프를 돌게 됨"
      ]
    },
    {
      "cell_type": "markdown",
      "metadata": {
        "id": "p1nbgq5HbA2f"
      },
      "source": [
        "\n",
        "\n",
        "---\n",
        "\n"
      ]
    },
    {
      "cell_type": "code",
      "metadata": {
        "id": "dD-ephD3SLAX",
        "colab": {
          "base_uri": "https://localhost:8080/"
        },
        "outputId": "b1098feb-53a4-4f7b-f386-81b1c421ecf6"
      },
      "source": [
        "a = 0\n",
        "if a == 0:\n",
        "    print(a)\n",
        "else: \n",
        "  print(a+1)\n"
      ],
      "execution_count": null,
      "outputs": [
        {
          "output_type": "stream",
          "name": "stdout",
          "text": [
            "0\n"
          ]
        }
      ]
    },
    {
      "cell_type": "markdown",
      "metadata": {
        "id": "C2lGkDl9bEDG"
      },
      "source": [
        "- if와 else 밑에 들어가는 것도 **indent 처리**\n",
        "- = 하나 쓰면 variable에다 content를 assign 한다는 거고, ==두개 쓰면 진짜 equal 의 의미\n",
        "- 위의 코드를 해석하면 'a가 0이면 a를 프린트하고, 그렇지 않으면 a+1을 프린트하라' 라는 의미임"
      ]
    },
    {
      "cell_type": "code",
      "metadata": {
        "id": "M0AZaDMvSLAY",
        "outputId": "b25a5fe6-defa-4549-85b0-0c146ff7a2a0"
      },
      "source": [
        "for i in range(1, 3):\n",
        "    for j in range(3, 5):\n",
        "        print(i*j)"
      ],
      "execution_count": null,
      "outputs": [
        {
          "output_type": "stream",
          "text": [
            "3\n",
            "4\n",
            "6\n",
            "8\n"
          ],
          "name": "stdout"
        }
      ]
    },
    {
      "cell_type": "markdown",
      "metadata": {
        "id": "n0mFPuMAmzHM"
      },
      "source": [
        "[여기서부터 1110 심화] nested loop (inner loop+outer loop)\n",
        "- Outer loop; for i in range(1, 3) = 1≤x<3 라서 1,2, 생성\n",
        "- Inner loop; for j in range(3, 5) = 3≤x<5 라서 3,4 생성\n",
        "- Total; print(i*j): i=1, j=3인 상태, i=1, j=4인 상태, i=2, j=3인 상태, i=2, j=4인 상태 모음 👉 3, 4, 6,8"
      ]
    },
    {
      "cell_type": "markdown",
      "metadata": {
        "id": "Yu7GnGhJmpJY"
      },
      "source": [
        ""
      ]
    },
    {
      "cell_type": "code",
      "metadata": {
        "id": "ZPpZmVIHSLAY",
        "outputId": "0bbcc529-c1d8-4774-e1ad-9de8b9e065ce"
      },
      "source": [
        "for i in range(1, 3):\n",
        "    for j in range(3, 5):\n",
        "        if j >=4:\n",
        "            print(i*j)"
      ],
      "execution_count": null,
      "outputs": [
        {
          "output_type": "stream",
          "text": [
            "4\n",
            "8\n"
          ],
          "name": "stdout"
        }
      ]
    },
    {
      "cell_type": "markdown",
      "metadata": {
        "id": "m1psMiBZoroH"
      },
      "source": [
        "- outer loop 1, 2\n",
        "- inner loop 3, 4\n",
        "- if는 indent가 j 소속이므로 inner loop 소속! j가 4보다 크거나 작을 때만 출력하라 했으니, 1X4, 2X4 해서 total 4,8 출력 "
      ]
    },
    {
      "cell_type": "markdown",
      "metadata": {
        "id": "oo3xI-xHpKAG"
      },
      "source": [
        "\n",
        "\n",
        "---\n",
        "**List Comprehension**\n",
        "\n"
      ]
    },
    {
      "cell_type": "code",
      "metadata": {
        "id": "JQXk5vi0SLAY",
        "outputId": "cd3306f3-6d6d-446e-dd4a-f7f4e11dd967"
      },
      "source": [
        "a = [1, 2, 3, 4]\n",
        "b = [i for i in a if i >=2]\n",
        "b\n",
        "\n",
        "위의 b를 풀어서 봤을때, 생각은\n",
        "for i in a\n",
        " if i >=2 라고 하기"
      ],
      "execution_count": null,
      "outputs": [
        {
          "output_type": "execute_result",
          "data": {
            "text/plain": [
              "[2, 3, 4]"
            ]
          },
          "metadata": {
            "tags": []
          },
          "execution_count": 12
        }
      ]
    },
    {
      "cell_type": "markdown",
      "metadata": {
        "id": "n5bQzDLQpaXI"
      },
      "source": [
        "* b = [i for i in a if i >=2] 에서, *for i in a* 은 for loop 니까 1,2,3,4 임\n",
        "* i가 2보다 크거나 같을때 통과\n",
        "* b 맨앞 i = (b = [i]) b를 i를 사용하여 list를 채워라. 근데 i가 2보다 크거나 같아야 하니, [2,3,4]가 됨\n",
        "* 원래는 print[b] 해야 나오지만, 제일 마지막 줄에 있으니 그냥 b 만 해도 [2,3,4]가 나오는 것 "
      ]
    },
    {
      "cell_type": "code",
      "metadata": {
        "id": "MDmBGZ3LSLAZ",
        "outputId": "bd06f885-7334-43d9-d92d-848c615f6771"
      },
      "source": [
        "a = ['red', 'green', 'blue', 'purple']\n",
        "b = [i for i in a if len(i) >=4]\n",
        "b"
      ],
      "execution_count": null,
      "outputs": [
        {
          "output_type": "execute_result",
          "data": {
            "text/plain": [
              "['green', 'blue', 'purple']"
            ]
          },
          "metadata": {
            "tags": []
          },
          "execution_count": 13
        }
      ]
    },
    {
      "cell_type": "markdown",
      "metadata": {
        "id": "g1kVFXF7qY6Q"
      },
      "source": [
        "* for loop 을 볼 땐 in 뒤를 젤 먼저 봐야함. in a 니까, a 첫번째부터 마지막까지 i에 넣고 돌려라.\n",
        "* len(i)를 하면 len 안에 red green blue purple 이 들어가고,  if len(i) >=4 라는 말은 알파벳 개수가 4보다 크거나 같아야 한다는 말. 👉 green blue purple 추출"
      ]
    },
    {
      "cell_type": "code",
      "metadata": {
        "id": "1gWjPlBDqqvD",
        "outputId": "6a58ea51-6e0f-4cbb-d02f-97fcb26a8acf",
        "colab": {
          "base_uri": "https://localhost:8080/"
        }
      },
      "source": [
        "len('testify')"
      ],
      "execution_count": 6,
      "outputs": [
        {
          "output_type": "execute_result",
          "data": {
            "text/plain": [
              "7"
            ]
          },
          "metadata": {},
          "execution_count": 6
        }
      ]
    },
    {
      "cell_type": "markdown",
      "metadata": {
        "id": "MGZWrAU5qsr3"
      },
      "source": [
        "ㄴ **참고** len(문자)는 알파벳 개수를 나타냄"
      ]
    }
  ]
}