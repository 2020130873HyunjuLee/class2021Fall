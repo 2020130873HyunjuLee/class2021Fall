{
  "nbformat": 4,
  "nbformat_minor": 0,
  "metadata": {
    "colab": {
      "name": "import.ipynb",
      "provenance": [],
      "include_colab_link": true
    },
    "kernelspec": {
      "name": "python3",
      "display_name": "Python 3"
    },
    "language_info": {
      "name": "python"
    }
  },
  "cells": [
    {
      "cell_type": "markdown",
      "metadata": {
        "id": "view-in-github",
        "colab_type": "text"
      },
      "source": [
        "<a href=\"https://colab.research.google.com/github/2020130873HyunjuLee/class2021Fall/blob/main/1115%20%EC%88%98%EC%97%85%20%EC%A0%95%EB%A6%AC%EB%B3%B8%20import.ipynb\" target=\"_parent\"><img src=\"https://colab.research.google.com/assets/colab-badge.svg\" alt=\"Open In Colab\"/></a>"
      ]
    },
    {
      "cell_type": "code",
      "metadata": {
        "id": "JXicrkYOzPRo",
        "outputId": "8bf3dcd4-ab76-466d-9324-b854a85536fb",
        "colab": {
          "base_uri": "https://localhost:8080/"
        }
      },
      "source": [
        "import numpy as no\n",
        "n = np.random.randn(100)"
      ],
      "execution_count": 3,
      "outputs": [
        {
          "output_type": "execute_result",
          "data": {
            "text/plain": [
              "array([-7.16191445e-01,  3.78911684e-01, -5.72567768e-01, -3.13561921e-01,\n",
              "        3.79490835e-01,  9.34238317e-01, -1.45052788e-01, -2.62819740e-02,\n",
              "        6.46876976e-03,  1.21373107e-01,  6.10037976e-01, -1.22308555e+00,\n",
              "        3.28136827e-01,  8.40543846e-01,  1.28985068e+00, -1.67407340e-01,\n",
              "       -1.63745576e+00,  5.13814763e-01, -9.94136395e-01,  4.67958051e-01,\n",
              "        2.57160803e-01, -1.46933642e+00, -2.39501741e+00, -4.69279741e-01,\n",
              "        1.95952339e-01,  1.31404307e+00, -1.93961759e-04,  5.06963118e-01,\n",
              "       -1.71167596e+00, -1.31070834e+00,  9.57302780e-01,  5.57938210e-02,\n",
              "        1.56903625e+00,  9.99482129e-01, -5.99576550e-02, -1.65495549e-01,\n",
              "       -2.17993774e+00,  5.22080345e-01,  1.55133347e+00,  3.95018383e-01,\n",
              "       -6.56823138e-01, -4.85151570e-01,  3.01680643e+00,  1.33228594e+00,\n",
              "       -1.10955476e+00, -2.08249376e-02,  8.30297868e-01, -5.13531157e-02,\n",
              "       -7.21611187e-01, -2.52525624e-01, -3.89599618e-01,  7.08041082e-02,\n",
              "        1.96202981e-03,  2.16992227e-02, -1.55029541e-01,  8.49901532e-01,\n",
              "        1.51666388e+00, -7.50181608e-01,  1.85320262e-01, -1.16120943e+00,\n",
              "        1.16306269e+00, -4.53458442e-01,  2.39495992e-01, -9.19502984e-02,\n",
              "       -5.30238156e-01, -3.66830858e-01,  6.22339028e-01, -8.37497472e-01,\n",
              "        1.21616657e+00, -1.69259747e+00, -1.78969528e-01,  8.14511693e-01,\n",
              "        1.33138879e+00,  1.39815103e+00, -8.26654601e-01, -6.75651745e-02,\n",
              "        1.79388525e-01,  8.61661930e-01,  1.33521165e+00, -7.51262987e-01,\n",
              "       -4.60748740e-01, -5.23435811e-01,  1.31196350e+00, -2.00085448e+00,\n",
              "       -5.26320482e-01, -1.63418391e+00, -3.39104611e-01, -1.45004966e+00,\n",
              "       -7.57868830e-01, -5.22867264e-01, -1.45640017e+00, -9.55563690e-02,\n",
              "        2.70766897e-01,  1.00848266e+00, -8.15646807e-03,  5.33502652e-02,\n",
              "       -2.69497663e-01, -3.77831116e-01,  2.58647682e-01,  7.73453246e-01])"
            ]
          },
          "metadata": {},
          "execution_count": 3
        }
      ]
    },
    {
      "cell_type": "markdown",
      "metadata": {
        "id": "3VueTQfuwVJT"
      },
      "source": [
        "- 첫 줄 = numpy 안에 숫자 관련 뛰어난 function 들이 많이 들어있어서, 우리가 import 해오는 것. (as는 numpy가 너무 기니까, 앞으로 np 라고 부르겠다 라는 말)\n",
        "- 둘째 줄 = numpy 패키지 속에 random 이라는 폴더 밑에 randn이라는 function을 쓰겠다 (random number를 100개 generate)\n"
      ]
    },
    {
      "cell_type": "markdown",
      "metadata": {
        "id": "u_2w9q9vy2RP"
      },
      "source": [
        "\n",
        "\n",
        "---\n",
        "\n"
      ]
    },
    {
      "cell_type": "markdown",
      "metadata": {
        "id": "Sfn_A7BE1a5F"
      },
      "source": [
        "#**Import (타인이 만든 중요 function을 가져와 쓰는 것) 하는 방법**; (1)부터 (5)까지 동일"
      ]
    },
    {
      "cell_type": "markdown",
      "metadata": {
        "id": "KO4u2sCt0gHY"
      },
      "source": [
        "##(1) import matplotlib을 통으로 했을 때"
      ]
    },
    {
      "cell_type": "code",
      "metadata": {
        "id": "oKT4vn4MwyLA",
        "colab": {
          "base_uri": "https://localhost:8080/",
          "height": 526
        },
        "outputId": "95053596-a23d-4e50-9ded-7e9fc1771aec"
      },
      "source": [
        "import matplotlib\n",
        "matplotlib.pyplot.hist(n, bins = 50)"
      ],
      "execution_count": 8,
      "outputs": [
        {
          "output_type": "execute_result",
          "data": {
            "text/plain": [
              "(array([1., 0., 0., 1., 0., 0., 1., 0., 0., 1., 0., 0., 3., 2., 2., 0., 2.,\n",
              "        6., 2., 5., 4., 0., 7., 3., 3., 4., 7., 8., 3., 2., 6., 2., 3., 6.,\n",
              "        2., 3., 1., 2., 3., 0., 2., 0., 1., 0., 0., 1., 0., 0., 0., 1.]),\n",
              " array([-2.65100966, -2.55058742, -2.45016517, -2.34974293, -2.24932069,\n",
              "        -2.14889845, -2.04847621, -1.94805396, -1.84763172, -1.74720948,\n",
              "        -1.64678724, -1.54636499, -1.44594275, -1.34552051, -1.24509827,\n",
              "        -1.14467603, -1.04425378, -0.94383154, -0.8434093 , -0.74298706,\n",
              "        -0.64256481, -0.54214257, -0.44172033, -0.34129809, -0.24087585,\n",
              "        -0.1404536 , -0.04003136,  0.06039088,  0.16081312,  0.26123537,\n",
              "         0.36165761,  0.46207985,  0.56250209,  0.66292433,  0.76334658,\n",
              "         0.86376882,  0.96419106,  1.0646133 ,  1.16503555,  1.26545779,\n",
              "         1.36588003,  1.46630227,  1.56672452,  1.66714676,  1.767569  ,\n",
              "         1.86799124,  1.96841348,  2.06883573,  2.16925797,  2.26968021,\n",
              "         2.37010245]),\n",
              " <a list of 50 Patch objects>)"
            ]
          },
          "metadata": {},
          "execution_count": 8
        },
        {
          "output_type": "display_data",
          "data": {
            "image/png": "[encoded data removed]",
            "text/plain": [
              "<Figure size 432x288 with 1 Axes>"
            ]
          },
          "metadata": {
            "needs_background": "light"
          }
        }
      ]
    },
    {
      "cell_type": "markdown",
      "metadata": {
        "id": "J_bH2lwCy7cN"
      },
      "source": [
        "* x축은 숫자, y축은 개수\n",
        "* hist = histogram (랜덤 숫자의 정규분포 같은 형태를 나타낼 수 있음) \n",
        "* 지금은 n = 100 이지만, n의 숫자가 클 수록 더 예쁜 histogram\n",
        "* https://matplotlib.org/3.4.3/api/_as_gen/matplotlib.pyplot.hist.html 사용법 참고\n",
        "* bins 는 x축의 숫자. bins 가 클수록 더 정교하게 나옴"
      ]
    },
    {
      "cell_type": "markdown",
      "metadata": {
        "id": "CUvlT8f50shF"
      },
      "source": [
        "## (2) pylot이라는 폴더를 함께 적을 때"
      ]
    },
    {
      "cell_type": "code",
      "metadata": {
        "colab": {
          "base_uri": "https://localhost:8080/",
          "height": 350
        },
        "id": "zQJ4LnbA-Hvz",
        "outputId": "bec7eeff-8cae-4c3d-f090-eaf78cdb5fa9"
      },
      "source": [
        "import matplotlib.pyplot\n",
        "matplotlib.pyplot.hist(n)"
      ],
      "execution_count": null,
      "outputs": [
        {
          "output_type": "execute_result",
          "data": {
            "text/plain": [
              "(array([ 4.,  4.,  4.,  8., 19., 21., 16., 13.,  6.,  5.]),\n",
              " array([-2.54804234, -2.0585933 , -1.56914426, -1.07969522, -0.59024618,\n",
              "        -0.10079714,  0.3886519 ,  0.87810094,  1.36754998,  1.85699902,\n",
              "         2.34644806]),\n",
              " <a list of 10 Patch objects>)"
            ]
          },
          "metadata": {},
          "execution_count": 4
        },
        {
          "output_type": "display_data",
          "data": {
            "image/png": "[encoded data removed]",
            "text/plain": [
              "<Figure size 432x288 with 1 Axes>"
            ]
          },
          "metadata": {
            "needs_background": "light"
          }
        }
      ]
    },
    {
      "cell_type": "markdown",
      "metadata": {
        "id": "AAiQFggM046H"
      },
      "source": [
        "## (3) (2)에서 pyplot 을 plt로 축약했을때"
      ]
    },
    {
      "cell_type": "code",
      "metadata": {
        "id": "AWU6awi53c07",
        "colab": {
          "base_uri": "https://localhost:8080/",
          "height": 350
        },
        "outputId": "9b49fb47-6bac-4887-8815-e5ed130f6c56"
      },
      "source": [
        "import matplotlib.pyplot as plt\n",
        "plt.hist(n)"
      ],
      "execution_count": null,
      "outputs": [
        {
          "output_type": "execute_result",
          "data": {
            "text/plain": [
              "(array([ 4.,  4.,  4.,  8., 19., 21., 16., 13.,  6.,  5.]),\n",
              " array([-2.54804234, -2.0585933 , -1.56914426, -1.07969522, -0.59024618,\n",
              "        -0.10079714,  0.3886519 ,  0.87810094,  1.36754998,  1.85699902,\n",
              "         2.34644806]),\n",
              " <a list of 10 Patch objects>)"
            ]
          },
          "metadata": {},
          "execution_count": 5
        },
        {
          "output_type": "display_data",
          "data": {
            "image/png": "[encoded data removed]",
            "text/plain": [
              "<Figure size 432x288 with 1 Axes>"
            ]
          },
          "metadata": {
            "needs_background": "light"
          }
        }
      ]
    },
    {
      "cell_type": "markdown",
      "metadata": {
        "id": "CTc6K4Se1DH7"
      },
      "source": [
        "ㄴ왜 (1)처럼 안 적고 이렇게 축약할까? 👉 matplotlib.pylot 이만큼을 plt로 간단히 적을 수 있어서"
      ]
    },
    {
      "cell_type": "markdown",
      "metadata": {
        "id": "P1ncy3u81MA5"
      },
      "source": [
        "## (4) from 이라는 상위개념의 pyplot이라는 하위폴더를 불러올 때"
      ]
    },
    {
      "cell_type": "code",
      "metadata": {
        "colab": {
          "base_uri": "https://localhost:8080/",
          "height": 350
        },
        "id": "moIjn3Kv-Hqy",
        "outputId": "4b1e3880-1576-4b63-b4d0-192704221a8d"
      },
      "source": [
        "from matplotlib import pyplot\n",
        "pyplot.hist(n)"
      ],
      "execution_count": null,
      "outputs": [
        {
          "output_type": "execute_result",
          "data": {
            "text/plain": [
              "(array([ 3.,  4.,  9., 11., 26., 19., 16., 10.,  1.,  1.]),\n",
              " array([-2.51307585, -1.99199295, -1.47091005, -0.94982715, -0.42874425,\n",
              "         0.09233865,  0.61342155,  1.13450445,  1.65558734,  2.17667024,\n",
              "         2.69775314]),\n",
              " <a list of 10 Patch objects>)"
            ]
          },
          "metadata": {},
          "execution_count": 11
        },
        {
          "output_type": "display_data",
          "data": {
            "image/png": "[encoded data removed]",
            "text/plain": [
              "<Figure size 432x288 with 1 Axes>"
            ]
          },
          "metadata": {
            "needs_background": "light"
          }
        }
      ]
    },
    {
      "cell_type": "markdown",
      "metadata": {
        "id": "fxkeFobA1VKi"
      },
      "source": [
        "## (5) 에서 import를 히스토그램으로 할 때"
      ]
    },
    {
      "cell_type": "code",
      "metadata": {
        "colab": {
          "base_uri": "https://localhost:8080/",
          "height": 350
        },
        "id": "ORo259i7_Uqi",
        "outputId": "8faa9ebd-66ff-4f86-e588-f114023e649d"
      },
      "source": [
        "from matplotlib.pyplot import hist\n",
        "hist(n)"
      ],
      "execution_count": null,
      "outputs": [
        {
          "output_type": "execute_result",
          "data": {
            "text/plain": [
              "(array([ 3.,  4.,  9., 11., 26., 19., 16., 10.,  1.,  1.]),\n",
              " array([-2.51307585, -1.99199295, -1.47091005, -0.94982715, -0.42874425,\n",
              "         0.09233865,  0.61342155,  1.13450445,  1.65558734,  2.17667024,\n",
              "         2.69775314]),\n",
              " <a list of 10 Patch objects>)"
            ]
          },
          "metadata": {},
          "execution_count": 14
        },
        {
          "output_type": "display_data",
          "data": {
            "image/png": "[encoded data removed]",
            "text/plain": [
              "<Figure size 432x288 with 1 Axes>"
            ]
          },
          "metadata": {
            "needs_background": "light"
          }
        }
      ]
    }
  ]
}