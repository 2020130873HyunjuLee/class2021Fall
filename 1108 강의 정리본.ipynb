{
  "nbformat": 4,
  "nbformat_minor": 0,
  "metadata": {
    "colab": {
      "name": "test.ipynb",
      "provenance": [],
      "authorship_tag": "ABX9TyO9XtFMjXl8LgQJ2C+5NGBu",
      "include_colab_link": true
    },
    "kernelspec": {
      "name": "python3",
      "display_name": "Python 3"
    },
    "language_info": {
      "name": "python"
    }
  },
  "cells": [
    {
      "cell_type": "markdown",
      "metadata": {
        "id": "view-in-github",
        "colab_type": "text"
      },
      "source": [
        "<a href=\"https://colab.research.google.com/github/2020130873HyunjuLee/class2021Fall/blob/main/1108%20%EA%B0%95%EC%9D%98%20%EC%A0%95%EB%A6%AC%EB%B3%B8.ipynb\" target=\"_parent\"><img src=\"https://colab.research.google.com/assets/colab-badge.svg\" alt=\"Open In Colab\"/></a>"
      ]
    },
    {
      "cell_type": "markdown",
      "metadata": {
        "id": "nhMt4IB2OYbb"
      },
      "source": [
        "변수 (variables), 제어문 (syntax), 함수\n",
        "- 샵 print 라고 쓰면 주석  처리돼서 실행 X\n",
        "- type을 출력하면 float인지 string 인지 등등이 나옴\n",
        "- 숫자는 float,int 문자는 string 으로 표시\n",
        "- 밑의 코드에서 a는 int, b는 float, c는 string, d는 list, e는 'dictionary' \n",
        "- https://wikidocs.net/12  링크참고\n",
        "- c가 hello 일때, print(c[0]) 이런식으로 하면, hello 중 맨 처음 알파벳만 출력 (0부터 시작)\n",
        "- dict 타입은 숫자를 넣으면 X, 표제어를 넣어서 출력해야함"
      ]
    },
    {
      "cell_type": "code",
      "metadata": {
        "colab": {
          "base_uri": "https://localhost:8080/"
        },
        "id": "TEyf5Hu790Wt",
        "outputId": "1a2b54c0-943d-4df2-88ba-d3d1d77381de"
      },
      "source": [
        "a = 1\n",
        "b = 1.1\n",
        "c = 'hello'\n",
        "d = [1,'abc',2.1]\n",
        "e = {\"apple\": \"red fruit\", \"banana\": \"yellow fruit\"}\n",
        "\n",
        "# print(a)  \n",
        "# print(b)\n",
        "print(type(a))\n",
        "print(type(b))\n",
        "print(type(c))\n",
        "print(type(d))\n",
        "\n",
        "print(e[\"apple\"])"
      ],
      "execution_count": 12,
      "outputs": [
        {
          "output_type": "stream",
          "name": "stdout",
          "text": [
            "<class 'int'>\n",
            "<class 'float'>\n",
            "<class 'str'>\n",
            "<class 'list'>\n",
            "red fruit\n"
          ]
        }
      ]
    }
  ]
}