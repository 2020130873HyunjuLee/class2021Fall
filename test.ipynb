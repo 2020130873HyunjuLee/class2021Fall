{
  "nbformat": 4,
  "nbformat_minor": 0,
  "metadata": {
    "colab": {
      "name": "test.ipynb",
      "provenance": [],
      "authorship_tag": "ABX9TyMtygf/2JVcebQWu4IURShl",
      "include_colab_link": true
    },
    "kernelspec": {
      "name": "python3",
      "display_name": "Python 3"
    },
    "language_info": {
      "name": "python"
    }
  },
  "cells": [
    {
      "cell_type": "markdown",
      "metadata": {
        "id": "view-in-github",
        "colab_type": "text"
      },
      "source": [
        "<a href=\"https://colab.research.google.com/github/2020130873HyunjuLee/class2021Fall/blob/main/test.ipynb\" target=\"_parent\"><img src=\"https://colab.research.google.com/assets/colab-badge.svg\" alt=\"Open In Colab\"/></a>"
      ]
    },
    {
      "cell_type": "markdown",
      "metadata": {
        "id": "nhMt4IB2OYbb"
      },
      "source": [
        "변수 (variables), 제어문 (syntax), 함수\n",
        "- 샵 print 라고 쓰면 주석  처리돼서 실행 X\n",
        "- 숫자는 float,int 문자는 string 으로 표시\n",
        "- https://wikidocs.net/12  링크참고"
      ]
    },
    {
      "cell_type": "code",
      "metadata": {
        "colab": {
          "base_uri": "https://localhost:8080/"
        },
        "id": "TEyf5Hu790Wt",
        "outputId": "b2608f5d-7b8b-467b-9345-d76de25b3772"
      },
      "source": [
        "c = 1\n",
        "a = 1.1\n",
        "b = 'hello'\n",
        "d = [1,'abc',2.1]\n",
        "\n",
        "# print(a)\n",
        "# print(b)\n",
        "print(type(a))\n",
        "print(type(c))\n",
        "print(type(b))\n",
        "print(type(d))"
      ],
      "execution_count": 1,
      "outputs": [
        {
          "output_type": "stream",
          "name": "stdout",
          "text": [
            "<class 'float'>\n",
            "<class 'int'>\n",
            "<class 'str'>\n",
            "<class 'list'>\n"
          ]
        }
      ]
    }
  ]
}